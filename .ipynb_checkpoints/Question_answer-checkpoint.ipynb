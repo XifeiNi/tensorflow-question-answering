{
 "cells": [
  {
   "cell_type": "markdown",
   "metadata": {},
   "source": [
    "#### Library \n"
   ]
  },
  {
   "cell_type": "code",
   "execution_count": null,
   "metadata": {},
   "outputs": [],
   "source": [
    "import gc\n",
    "import json\n",
    "import numpy as np \n",
    "import pandas as pd\n",
    "import re\n",
    "import tensorflow as tf \n",
    "import os\n",
    "\n",
    "# add system path \n",
    "\n",
    "for dirname, _, filenames in os.walk('D:\\kaggle\\question answer competition'):\n",
    "    for filename in filenames:\n",
    "        print(os.path.join(dirname, filename))\n",
    "        \n",
    "from sklearn.metrics import accuracy_score, f1_score\n",
    "from tqdm import tqdm_notebook as tqdm\n",
    "print(os.path)\n",
    "\n",
    "from sklearn.feature_extraction.text import TfidfVectorizer\n",
    "from sklearn.feature_extraction import text\n",
    "from sklearn.model_selection import GroupKFold\n",
    "from sklearn.linear_model import LogisticRegression\n",
    "\n",
    "from scipy import spatial\n",
    "import Levenshtein "
   ]
  },
  {
   "cell_type": "markdown",
   "metadata": {},
   "source": [
    "### data preprocessing \n",
    "Extract features, constructor embedding vector for the question_context and answer_context "
   ]
  },
  {
   "cell_type": "code",
   "execution_count": null,
   "metadata": {},
   "outputs": [],
   "source": [
    "training_data_path  = \"D:\\kaggle\\question answer competition\\input\\simplified-nq-train.jsonl\"\n",
    "test_data_path = \"D:\\kaggle\\question answer competition\\input\\simplified-nq-test.jsonl\"\n",
    "with open(training_data_path, 'r') as json_file:\n",
    "    print(json_file.keys)\n",
    "\n",
    "        \n",
    "# prevent using the default setting for flgas \n",
    "def del_all_flags(FLAGS):\n",
    "    flags_dict = FLAGS._flags()\n",
    "    keys_list = [keys for keys in flags_dict]\n",
    "    for keys in keys_list:\n",
    "        FLAGS.__delattr__(keys)\n",
    "\n",
    "del_all_flags(tf.compat.v1.app.flags.FLAGS)\n",
    "\n",
    "flags = tf.compat.v1.app.flags\n",
    "\n",
    "\n",
    "# clean funtion \n",
    "html_tags = ['<P>', '</P>', '<Table>', '</Table>', '<Tr>', '</Tr>', '<Ul>', '<Ol>', '<Dl>', '</Ul>', '</Ol>', \\\n",
    "             '</Dl>', '<Li>', '<Dd>', '<Dt>', '</Li>', '</Dd>', '</Dt>']\n",
    "r_buf = ['is', 'are', 'do', 'does', 'did', 'was', 'were', 'will', 'can', 'the', 'a', 'an', 'of', 'in', 'and', 'on', \\\n",
    "         'what', 'where', 'when', 'which'] + html_tags\n",
    "\n",
    "def clean(x):\n",
    "    x = x.lower()\n",
    "    for r in r_buf:\n",
    "        x = x.replace(r, '')\n",
    "    x = re.sub(' +', ' ', x)\n",
    "    return x\n",
    "\n",
    "\n"
   ]
  },
  {
   "cell_type": "markdown",
   "metadata": {},
   "source": [
    "### feature expression     \n",
    "project them on the different spaces \n"
   ]
  },
  {
   "cell_type": "code",
   "execution_count": null,
   "metadata": {},
   "outputs": [],
   "source": []
  }
 ],
 "metadata": {
  "kernelspec": {
   "display_name": "Python 3",
   "language": "python",
   "name": "python3"
  },
  "language_info": {
   "codemirror_mode": {
    "name": "ipython",
    "version": 3
   },
   "file_extension": ".py",
   "mimetype": "text/x-python",
   "name": "python",
   "nbconvert_exporter": "python",
   "pygments_lexer": "ipython3",
   "version": "3.7.3"
  }
 },
 "nbformat": 4,
 "nbformat_minor": 2
}
